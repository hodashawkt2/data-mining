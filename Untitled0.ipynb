{
  "nbformat": 4,
  "nbformat_minor": 0,
  "metadata": {
    "colab": {
      "provenance": []
    },
    "kernelspec": {
      "name": "python3",
      "display_name": "Python 3"
    },
    "language_info": {
      "name": "python"
    }
  },
  "cells": [
    {
      "cell_type": "markdown",
      "source": [
        "🔹 Step 1: Verify the Uploaded File"
      ],
      "metadata": {
        "id": "w8AXQN0C-PKi"
      }
    },
    {
      "cell_type": "code",
      "execution_count": 5,
      "metadata": {
        "colab": {
          "base_uri": "https://localhost:8080/"
        },
        "id": "U5IzN7Q65yxe",
        "outputId": "05dce3f4-876e-4a31-cc7c-a8e7b5d86d3e"
      },
      "outputs": [
        {
          "output_type": "stream",
          "name": "stdout",
          "text": [
            "['.config', 'TBD3.json', 'sample_data']\n"
          ]
        }
      ],
      "source": [
        "import os\n",
        "\n",
        "# List files in the current working directory\n",
        "print(os.listdir())\n"
      ]
    },
    {
      "cell_type": "markdown",
      "source": [
        " Step 2: Read the JSON File"
      ],
      "metadata": {
        "id": "cW1yv4z_8k3R"
      }
    },
    {
      "cell_type": "code",
      "source": [
        "import json\n",
        "\n",
        "file_name = \"TBD3.json\"  # Ensure the file extension is correct!\n",
        "\n",
        "# Open and load the JSON file\n",
        "with open(\"TBD3.json\", 'r', encoding='utf-8') as f:\n",
        "    data = json.load(f)\n",
        "\n",
        "print(\"✅ File loaded successfully!\")\n",
        "print(\"📂 Sample data:\", data[:2])  # Display first 2 records for verification\n"
      ],
      "metadata": {
        "colab": {
          "base_uri": "https://localhost:8080/"
        },
        "id": "sn_Z-whq9hkN",
        "outputId": "3cbc4bfa-4d9a-4eb3-dce7-d74c4e1200d9"
      },
      "execution_count": 12,
      "outputs": [
        {
          "output_type": "stream",
          "name": "stdout",
          "text": [
            "✅ File loaded successfully!\n",
            "📂 Sample data: [{'items': ['milk', 'bread', 'eggs', 'butter', 'cheese', 'apples']}, {'items': ['bread', 'diapers', 'beer', 'eggs', 'yogurt', 'bananas']}]\n"
          ]
        }
      ]
    },
    {
      "cell_type": "markdown",
      "source": [
        "📊 Step 3: Convert JSON to a Pandas DataFrame\n",
        "\n",
        "\n",
        "The Apriori algorithm requires structured data. Let’s convert the JSON file into a Pandas DataFrame."
      ],
      "metadata": {
        "id": "D7wDV9wyAUsY"
      }
    },
    {
      "cell_type": "code",
      "source": [
        "import pandas as pd\n",
        "\n",
        "# Convert JSON to DataFrame\n",
        "df = pd.DataFrame(data)\n",
        "\n",
        "\n",
        "print(\"✅ Data converted to DataFrame!\")\n",
        "print(df.head())  # Show the first few rows\n"
      ],
      "metadata": {
        "colab": {
          "base_uri": "https://localhost:8080/"
        },
        "id": "H7w7rhI-Amju",
        "outputId": "9801c25b-175b-4130-adb6-59d82fa7fab7"
      },
      "execution_count": 14,
      "outputs": [
        {
          "output_type": "stream",
          "name": "stdout",
          "text": [
            "✅ Data converted to DataFrame!\n",
            "                                           items\n",
            "0    [milk, bread, eggs, butter, cheese, apples]\n",
            "1  [bread, diapers, beer, eggs, yogurt, bananas]\n",
            "2     [milk, diapers, beer, cola, apples, chips]\n",
            "3    [bread, milk, diapers, beer, bananas, soda]\n",
            "4              [bread, cola, chips, soda, juice]\n"
          ]
        }
      ]
    },
    {
      "cell_type": "markdown",
      "source": [
        " Step 4: Preprocess the Data"
      ],
      "metadata": {
        "id": "w1e4Z4uVAt7q"
      }
    },
    {
      "cell_type": "markdown",
      "source": [
        "Apriori works on transactions, so we need to process the data correctly."
      ],
      "metadata": {
        "id": "X6nPn5o3_SrA"
      }
    },
    {
      "cell_type": "code",
      "source": [
        "# Assuming the dataset contains a column with lists of items bought together\n",
        "# Adjust column names based on my JSON structure!\n",
        "df['items'] = df['items'].apply(lambda x: x if isinstance(x, list) else [])\n",
        "\n",
        "# Display processed transactions\n",
        "transactions = df['items'].tolist()\n",
        "print(\"✅ Transactions ready for Apriori!\")\n",
        "print(transactions[:3])  # Display first 3 transactions\n"
      ],
      "metadata": {
        "colab": {
          "base_uri": "https://localhost:8080/"
        },
        "id": "ORovrH1mBGi2",
        "outputId": "8cc425ad-9d36-4296-8982-ee91a70b430d"
      },
      "execution_count": 15,
      "outputs": [
        {
          "output_type": "stream",
          "name": "stdout",
          "text": [
            "✅ Transactions ready for Apriori!\n",
            "[['milk', 'bread', 'eggs', 'butter', 'cheese', 'apples'], ['bread', 'diapers', 'beer', 'eggs', 'yogurt', 'bananas'], ['milk', 'diapers', 'beer', 'cola', 'apples', 'chips']]\n"
          ]
        }
      ]
    },
    {
      "cell_type": "markdown",
      "source": [
        "📈 Step 5: Apply the Apriori Algorithm"
      ],
      "metadata": {
        "id": "DpD6MZ9gBQC7"
      }
    },
    {
      "cell_type": "markdown",
      "source": [
        "using the MLxtend library to apply the Apriori algorithm."
      ],
      "metadata": {
        "id": "4UW7NCDCBUx3"
      }
    },
    {
      "cell_type": "code",
      "source": [
        "from mlxtend.frequent_patterns import apriori, association_rules\n",
        "from mlxtend.preprocessing import TransactionEncoder\n",
        "\n",
        "# Convert transactions to the required format\n",
        "te = TransactionEncoder()\n",
        "te_ary = te.fit(transactions).transform(transactions)\n",
        "df_encoded = pd.DataFrame(te_ary, columns=te.columns_)\n",
        "\n",
        "# Apply Apriori algorithm\n",
        "min_support = 0.01\n",
        "frequent_itemsets = apriori(df_encoded, min_support=min_support, use_colnames=True)\n",
        "\n",
        "print(\"✅ Frequent itemsets found!\")\n",
        "print(frequent_itemsets)\n"
      ],
      "metadata": {
        "colab": {
          "base_uri": "https://localhost:8080/"
        },
        "id": "2guZ4zNRBUMx",
        "outputId": "3da4d9d4-a196-43ef-e07b-f85be9d80435"
      },
      "execution_count": 16,
      "outputs": [
        {
          "output_type": "stream",
          "name": "stdout",
          "text": [
            "✅ Frequent itemsets found!\n",
            "      support                           itemsets\n",
            "0    0.013158                    (aluminum foil)\n",
            "1    0.013158                       (antiseptic)\n",
            "2    0.026316                           (apples)\n",
            "3    0.013158                           (bagels)\n",
            "4    0.013158                         (balloons)\n",
            "..        ...                                ...\n",
            "563  0.013158  (diapers, usb drives, beer, milk)\n",
            "564  0.013158     (diapers, vinegar, beer, milk)\n",
            "565  0.013158         (soda, cola, juice, bread)\n",
            "566  0.111842       (diapers, bread, eggs, milk)\n",
            "567  0.013158       (diapers, soda, bread, milk)\n",
            "\n",
            "[568 rows x 2 columns]\n"
          ]
        }
      ]
    },
    {
      "cell_type": "markdown",
      "source": [
        "📌 Step 6: Generate Association Rules"
      ],
      "metadata": {
        "id": "5kSyOKncBg82"
      }
    },
    {
      "cell_type": "markdown",
      "source": [
        "generating association rules based on the frequent itemsets."
      ],
      "metadata": {
        "id": "oO8g6zuMBlus"
      }
    },
    {
      "cell_type": "code",
      "source": [
        "# Generate association rules\n",
        "min_confidence = 0.8  # Adjust confidence threshold as needed\n",
        "rules = association_rules(frequent_itemsets, metric=\"confidence\", min_threshold=min_confidence)\n",
        "\n",
        "print(\"✅ Association Rules Generated!\")\n",
        "print(rules[['antecedents', 'consequents', 'support', 'confidence', 'lift']])\n"
      ],
      "metadata": {
        "colab": {
          "base_uri": "https://localhost:8080/"
        },
        "id": "5IwDwICHBr5E",
        "outputId": "9b5d52b1-7803-4503-bcd0-6ef14a825811"
      },
      "execution_count": 21,
      "outputs": [
        {
          "output_type": "stream",
          "name": "stdout",
          "text": [
            "✅ Association Rules Generated!\n",
            "                antecedents       consequents   support  confidence      lift\n",
            "0           (aluminum foil)           (bread)  0.013158         1.0  1.235772\n",
            "1           (aluminum foil)            (milk)  0.013158         1.0  1.600000\n",
            "2              (antiseptic)           (bread)  0.013158         1.0  1.235772\n",
            "3                  (bagels)           (bread)  0.013158         1.0  1.235772\n",
            "4                  (bagels)            (eggs)  0.013158         1.0  2.763636\n",
            "..                      ...               ...       ...         ...       ...\n",
            "666  (diapers, soda, bread)            (milk)  0.013158         1.0  1.600000\n",
            "667   (diapers, soda, milk)           (bread)  0.013158         1.0  1.235772\n",
            "668     (soda, milk, bread)         (diapers)  0.013158         1.0  1.747126\n",
            "669         (diapers, soda)     (milk, bread)  0.013158         1.0  2.171429\n",
            "670            (soda, milk)  (diapers, bread)  0.013158         1.0  2.171429\n",
            "\n",
            "[671 rows x 5 columns]\n"
          ]
        }
      ]
    },
    {
      "cell_type": "markdown",
      "source": [],
      "metadata": {
        "id": "Ea3Kw5vvDNoX"
      }
    },
    {
      "cell_type": "code",
      "source": [
        "filtered_rules = rules[rules['lift'] > 1.5]\n",
        "print(\"✅ Filtered Strong Rules!\")\n",
        "print(filtered_rules[['antecedents', 'consequents', 'support', 'confidence', 'lift']])\n"
      ],
      "metadata": {
        "colab": {
          "base_uri": "https://localhost:8080/"
        },
        "id": "Jp8-8yT7DP_z",
        "outputId": "a81611b0-cb6f-40da-bc52-df5c313fb1cb"
      },
      "execution_count": 22,
      "outputs": [
        {
          "output_type": "stream",
          "name": "stdout",
          "text": [
            "✅ Filtered Strong Rules!\n",
            "                antecedents       consequents   support  confidence      lift\n",
            "1           (aluminum foil)            (milk)  0.013158         1.0  1.600000\n",
            "4                  (bagels)            (eggs)  0.013158         1.0  2.763636\n",
            "5                (balloons)            (beer)  0.013158         1.0  2.171429\n",
            "6                (balloons)         (diapers)  0.013158         1.0  1.747126\n",
            "7                (balloons)            (milk)  0.013158         1.0  1.600000\n",
            "..                      ...               ...       ...         ...       ...\n",
            "664           (soda, juice)     (cola, bread)  0.013158         1.0  4.470588\n",
            "666  (diapers, soda, bread)            (milk)  0.013158         1.0  1.600000\n",
            "668     (soda, milk, bread)         (diapers)  0.013158         1.0  1.747126\n",
            "669         (diapers, soda)     (milk, bread)  0.013158         1.0  2.171429\n",
            "670            (soda, milk)  (diapers, bread)  0.013158         1.0  2.171429\n",
            "\n",
            "[526 rows x 5 columns]\n"
          ]
        }
      ]
    },
    {
      "cell_type": "markdown",
      "source": [
        "Save the Results to CSV"
      ],
      "metadata": {
        "id": "6ziyL_uSE1vl"
      }
    },
    {
      "cell_type": "code",
      "source": [
        "filtered_rules.to_csv(\"strong_association_rules.csv\", index=False)\n",
        "print(\"✅ Rules saved to strong_association_rules.csv!\")\n"
      ],
      "metadata": {
        "colab": {
          "base_uri": "https://localhost:8080/"
        },
        "id": "QldicKJQE3lf",
        "outputId": "0c7e71af-2743-4e13-847b-a3abe4ac2ac9"
      },
      "execution_count": 23,
      "outputs": [
        {
          "output_type": "stream",
          "name": "stdout",
          "text": [
            "✅ Rules saved to strong_association_rules.csv!\n"
          ]
        }
      ]
    },
    {
      "cell_type": "code",
      "source": [
        "from google.colab import drive\n",
        "drive.mount('/content/drive')"
      ],
      "metadata": {
        "id": "5GpOn1ifMpqP"
      },
      "execution_count": null,
      "outputs": []
    }
  ]
}